{
  "nbformat": 4,
  "nbformat_minor": 0,
  "metadata": {
    "colab": {
      "name": "ImageRec02_Transfer Learning.ipynb",
      "provenance": [],
      "collapsed_sections": [],
      "authorship_tag": "ABX9TyMHQXDv2wd4vfRklkQ7Zff8",
      "include_colab_link": true
    },
    "kernelspec": {
      "name": "python3",
      "display_name": "Python 3"
    },
    "accelerator": "GPU"
  },
  "cells": [
    {
      "cell_type": "markdown",
      "metadata": {
        "id": "view-in-github",
        "colab_type": "text"
      },
      "source": [
        "<a href=\"https://colab.research.google.com/github/riddhi-2080/Kaggle-Assignment/blob/master/ImageRec02_Transfer_Learning.ipynb\" target=\"_parent\"><img src=\"https://colab.research.google.com/assets/colab-badge.svg\" alt=\"Open In Colab\"/></a>"
      ]
    },
    {
      "cell_type": "markdown",
      "metadata": {
        "id": "qX8MGR2tn7DO",
        "colab_type": "text"
      },
      "source": [
        "#### 1. Check for the currently available GPUs."
      ]
    },
    {
      "cell_type": "code",
      "metadata": {
        "id": "JneLU0k2v6Pc",
        "colab_type": "code",
        "colab": {
          "base_uri": "https://localhost:8080/",
          "height": 470
        },
        "outputId": "9962337f-2227-49c8-fd0c-5054fa5a01a4"
      },
      "source": [
        "from tensorflow.python.client import device_lib\n",
        "device_lib.list_local_devices()"
      ],
      "execution_count": null,
      "outputs": [
        {
          "output_type": "execute_result",
          "data": {
            "text/plain": [
              "[name: \"/device:CPU:0\"\n",
              " device_type: \"CPU\"\n",
              " memory_limit: 268435456\n",
              " locality {\n",
              " }\n",
              " incarnation: 9274319817941366915, name: \"/device:XLA_CPU:0\"\n",
              " device_type: \"XLA_CPU\"\n",
              " memory_limit: 17179869184\n",
              " locality {\n",
              " }\n",
              " incarnation: 15319627182836158235\n",
              " physical_device_desc: \"device: XLA_CPU device\", name: \"/device:XLA_GPU:0\"\n",
              " device_type: \"XLA_GPU\"\n",
              " memory_limit: 17179869184\n",
              " locality {\n",
              " }\n",
              " incarnation: 13526977471818251281\n",
              " physical_device_desc: \"device: XLA_GPU device\", name: \"/device:GPU:0\"\n",
              " device_type: \"GPU\"\n",
              " memory_limit: 14648715520\n",
              " locality {\n",
              "   bus_id: 1\n",
              "   links {\n",
              "   }\n",
              " }\n",
              " incarnation: 8389839544675827669\n",
              " physical_device_desc: \"device: 0, name: Tesla T4, pci bus id: 0000:00:04.0, compute capability: 7.5\"]"
            ]
          },
          "metadata": {
            "tags": []
          },
          "execution_count": 1
        }
      ]
    },
    {
      "cell_type": "code",
      "metadata": {
        "id": "5rga2OuroNNR",
        "colab_type": "code",
        "colab": {}
      },
      "source": [
        "# Import the basic libraries\n",
        "\n",
        "import pandas as pd\n",
        "import numpy as np"
      ],
      "execution_count": null,
      "outputs": []
    },
    {
      "cell_type": "markdown",
      "metadata": {
        "id": "N2EKQ2lHoHyY",
        "colab_type": "text"
      },
      "source": [
        "#### 2. View the files on current directory path"
      ]
    },
    {
      "cell_type": "code",
      "metadata": {
        "id": "Pfu43_1g6bx7",
        "colab_type": "code",
        "colab": {
          "base_uri": "https://localhost:8080/",
          "height": 67
        },
        "outputId": "364c001d-1acf-4393-cba5-ca07f4207c93"
      },
      "source": [
        "!ls"
      ],
      "execution_count": null,
      "outputs": [
        {
          "output_type": "stream",
          "text": [
            "anscombe.json\t\t      mnist_test.csv\t     sampleSubmission.csv\n",
            "california_housing_test.csv   mnist_train_small.csv  trainLabels.csv\n",
            "california_housing_train.csv  README.md\n"
          ],
          "name": "stdout"
        }
      ]
    },
    {
      "cell_type": "code",
      "metadata": {
        "id": "3Rnk58s3jyxD",
        "colab_type": "code",
        "colab": {}
      },
      "source": [
        "#!rm test.7z\n"
      ],
      "execution_count": null,
      "outputs": []
    },
    {
      "cell_type": "markdown",
      "metadata": {
        "id": "c0S_KZ4loZTM",
        "colab_type": "text"
      },
      "source": [
        "#### 3. Installing the Keras pre-processing"
      ]
    },
    {
      "cell_type": "code",
      "metadata": {
        "id": "9a_v_3cQ6FSm",
        "colab_type": "code",
        "colab": {}
      },
      "source": [
        "!pip uninstall keras-preprocessing"
      ],
      "execution_count": null,
      "outputs": []
    },
    {
      "cell_type": "code",
      "metadata": {
        "id": "EvAP5eUfxBtP",
        "colab_type": "code",
        "colab": {
          "base_uri": "https://localhost:8080/",
          "height": 222
        },
        "outputId": "af57fc28-7530-423e-df33-822f44a4d030"
      },
      "source": [
        "pip install git+https://github.com/keras-team/keras-preprocessing.git"
      ],
      "execution_count": null,
      "outputs": [
        {
          "output_type": "stream",
          "text": [
            "Collecting git+https://github.com/keras-team/keras-preprocessing.git\n",
            "  Cloning https://github.com/keras-team/keras-preprocessing.git to /tmp/pip-req-build-yk21t_sq\n",
            "  Running command git clone -q https://github.com/keras-team/keras-preprocessing.git /tmp/pip-req-build-yk21t_sq\n",
            "Requirement already satisfied (use --upgrade to upgrade): Keras-Preprocessing==1.1.2 from git+https://github.com/keras-team/keras-preprocessing.git in /usr/local/lib/python3.6/dist-packages\n",
            "Requirement already satisfied: numpy>=1.9.1 in /usr/local/lib/python3.6/dist-packages (from Keras-Preprocessing==1.1.2) (1.18.5)\n",
            "Requirement already satisfied: six>=1.9.0 in /usr/local/lib/python3.6/dist-packages (from Keras-Preprocessing==1.1.2) (1.15.0)\n",
            "Building wheels for collected packages: Keras-Preprocessing\n",
            "  Building wheel for Keras-Preprocessing (setup.py) ... \u001b[?25l\u001b[?25hdone\n",
            "  Created wheel for Keras-Preprocessing: filename=Keras_Preprocessing-1.1.2-cp36-none-any.whl size=42983 sha256=5a6942586525d4a3140bf258d5992cab0ae205813cf840d21cdbf6bd29bab3e3\n",
            "  Stored in directory: /tmp/pip-ephem-wheel-cache-k1xewazx/wheels/03/a0/39/171f6040d36f36c71168dc69afa81334351b20955dc36ce932\n",
            "Successfully built Keras-Preprocessing\n"
          ],
          "name": "stdout"
        }
      ]
    },
    {
      "cell_type": "markdown",
      "metadata": {
        "id": "twBkLgt1oq2G",
        "colab_type": "text"
      },
      "source": [
        "#### 4. Import local files to google colab"
      ]
    },
    {
      "cell_type": "code",
      "metadata": {
        "id": "gm2Nnes_G5WE",
        "colab_type": "code",
        "colab": {}
      },
      "source": [
        "from google.colab import files"
      ],
      "execution_count": null,
      "outputs": []
    },
    {
      "cell_type": "code",
      "metadata": {
        "id": "546YYisgccHI",
        "colab_type": "code",
        "colab": {
          "base_uri": "https://localhost:8080/",
          "height": 121
        },
        "outputId": "9b7609f3-3a7e-462c-fbf0-7359a4db0668"
      },
      "source": [
        "# Mounting the drive\n",
        "\n",
        "from google.colab import drive\n",
        "drive.mount('/content/drive')"
      ],
      "execution_count": null,
      "outputs": [
        {
          "output_type": "stream",
          "text": [
            "Go to this URL in a browser: https://accounts.google.com/o/oauth2/auth?client_id=947318989803-6bn6qk8qdgf4n4g3pfee6491hc0brc4i.apps.googleusercontent.com&redirect_uri=urn%3aietf%3awg%3aoauth%3a2.0%3aoob&response_type=code&scope=email%20https%3a%2f%2fwww.googleapis.com%2fauth%2fdocs.test%20https%3a%2f%2fwww.googleapis.com%2fauth%2fdrive%20https%3a%2f%2fwww.googleapis.com%2fauth%2fdrive.photos.readonly%20https%3a%2f%2fwww.googleapis.com%2fauth%2fpeopleapi.readonly\n",
            "\n",
            "Enter your authorization code:\n",
            "··········\n",
            "Mounted at /content/drive\n"
          ],
          "name": "stdout"
        }
      ]
    },
    {
      "cell_type": "code",
      "metadata": {
        "id": "bdGiQ-Y4G5aI",
        "colab_type": "code",
        "colab": {
          "base_uri": "https://localhost:8080/",
          "height": 303
        },
        "outputId": "64079b15-90a3-43bb-fd26-fb36cb500e8c"
      },
      "source": [
        "# Upload the actual data files from local system\n",
        "\n",
        "uploaded = files.upload()"
      ],
      "execution_count": null,
      "outputs": [
        {
          "output_type": "error",
          "ename": "MessageError",
          "evalue": "ignored",
          "traceback": [
            "\u001b[0;31m---------------------------------------------------------------------------\u001b[0m",
            "\u001b[0;31mMessageError\u001b[0m                              Traceback (most recent call last)",
            "\u001b[0;32m<ipython-input-35-ed2fd71b4a2f>\u001b[0m in \u001b[0;36m<module>\u001b[0;34m()\u001b[0m\n\u001b[0;32m----> 1\u001b[0;31m \u001b[0muploaded\u001b[0m \u001b[0;34m=\u001b[0m \u001b[0mfiles\u001b[0m\u001b[0;34m.\u001b[0m\u001b[0mupload\u001b[0m\u001b[0;34m(\u001b[0m\u001b[0;34m)\u001b[0m\u001b[0;34m\u001b[0m\u001b[0;34m\u001b[0m\u001b[0m\n\u001b[0m",
            "\u001b[0;32m/usr/local/lib/python3.6/dist-packages/google/colab/files.py\u001b[0m in \u001b[0;36mupload\u001b[0;34m()\u001b[0m\n\u001b[1;32m     70\u001b[0m     result = _output.eval_js(\n\u001b[1;32m     71\u001b[0m         'google.colab._files._uploadFilesContinue(\"{output_id}\")'.format(\n\u001b[0;32m---> 72\u001b[0;31m             output_id=output_id))\n\u001b[0m\u001b[1;32m     73\u001b[0m     \u001b[0;32mif\u001b[0m \u001b[0mresult\u001b[0m\u001b[0;34m[\u001b[0m\u001b[0;34m'action'\u001b[0m\u001b[0;34m]\u001b[0m \u001b[0;34m!=\u001b[0m \u001b[0;34m'append'\u001b[0m\u001b[0;34m:\u001b[0m\u001b[0;34m\u001b[0m\u001b[0;34m\u001b[0m\u001b[0m\n\u001b[1;32m     74\u001b[0m       \u001b[0;31m# JS side uses a generator of promises to process all of the files- some\u001b[0m\u001b[0;34m\u001b[0m\u001b[0;34m\u001b[0m\u001b[0;34m\u001b[0m\u001b[0m\n",
            "\u001b[0;32m/usr/local/lib/python3.6/dist-packages/google/colab/output/_js.py\u001b[0m in \u001b[0;36meval_js\u001b[0;34m(script, ignore_result)\u001b[0m\n\u001b[1;32m     37\u001b[0m   \u001b[0;32mif\u001b[0m \u001b[0mignore_result\u001b[0m\u001b[0;34m:\u001b[0m\u001b[0;34m\u001b[0m\u001b[0;34m\u001b[0m\u001b[0m\n\u001b[1;32m     38\u001b[0m     \u001b[0;32mreturn\u001b[0m\u001b[0;34m\u001b[0m\u001b[0;34m\u001b[0m\u001b[0m\n\u001b[0;32m---> 39\u001b[0;31m   \u001b[0;32mreturn\u001b[0m \u001b[0m_message\u001b[0m\u001b[0;34m.\u001b[0m\u001b[0mread_reply_from_input\u001b[0m\u001b[0;34m(\u001b[0m\u001b[0mrequest_id\u001b[0m\u001b[0;34m)\u001b[0m\u001b[0;34m\u001b[0m\u001b[0;34m\u001b[0m\u001b[0m\n\u001b[0m\u001b[1;32m     40\u001b[0m \u001b[0;34m\u001b[0m\u001b[0m\n\u001b[1;32m     41\u001b[0m \u001b[0;34m\u001b[0m\u001b[0m\n",
            "\u001b[0;32m/usr/local/lib/python3.6/dist-packages/google/colab/_message.py\u001b[0m in \u001b[0;36mread_reply_from_input\u001b[0;34m(message_id, timeout_sec)\u001b[0m\n\u001b[1;32m    104\u001b[0m         reply.get('colab_msg_id') == message_id):\n\u001b[1;32m    105\u001b[0m       \u001b[0;32mif\u001b[0m \u001b[0;34m'error'\u001b[0m \u001b[0;32min\u001b[0m \u001b[0mreply\u001b[0m\u001b[0;34m:\u001b[0m\u001b[0;34m\u001b[0m\u001b[0;34m\u001b[0m\u001b[0m\n\u001b[0;32m--> 106\u001b[0;31m         \u001b[0;32mraise\u001b[0m \u001b[0mMessageError\u001b[0m\u001b[0;34m(\u001b[0m\u001b[0mreply\u001b[0m\u001b[0;34m[\u001b[0m\u001b[0;34m'error'\u001b[0m\u001b[0;34m]\u001b[0m\u001b[0;34m)\u001b[0m\u001b[0;34m\u001b[0m\u001b[0;34m\u001b[0m\u001b[0m\n\u001b[0m\u001b[1;32m    107\u001b[0m       \u001b[0;32mreturn\u001b[0m \u001b[0mreply\u001b[0m\u001b[0;34m.\u001b[0m\u001b[0mget\u001b[0m\u001b[0;34m(\u001b[0m\u001b[0;34m'data'\u001b[0m\u001b[0;34m,\u001b[0m \u001b[0;32mNone\u001b[0m\u001b[0;34m)\u001b[0m\u001b[0;34m\u001b[0m\u001b[0;34m\u001b[0m\u001b[0m\n\u001b[1;32m    108\u001b[0m \u001b[0;34m\u001b[0m\u001b[0m\n",
            "\u001b[0;31mMessageError\u001b[0m: Error: Cell has no view"
          ]
        }
      ]
    },
    {
      "cell_type": "code",
      "metadata": {
        "id": "p5IJgYbTxDBn",
        "colab_type": "code",
        "colab": {
          "base_uri": "https://localhost:8080/",
          "height": 34
        },
        "outputId": "4d56636b-8216-4ba5-c2c9-0d8f44ca0a25"
      },
      "source": [
        "from keras.models import Sequential\n",
        "\n",
        "#Import from keras_preprocessing \n",
        "from keras.layers import Input, Lambda, Dense, Activation, Flatten\n",
        "from keras.models import Model\n",
        "\n",
        "from keras.applications.vgg16 import VGG16, preprocess_input\n",
        "\n",
        "from keras.preprocessing import image\n",
        "from keras.preprocessing.image import .vgg16 import VGG16, preprocess_input\n",
        "\n",
        "from keras.preprocessing.image import ImageDataGenerator\n",
        "\n",
        "#from keras.layers import Conv2D, MaxPooling2D\n",
        "from keras import regularizers, optimizers"
      ],
      "execution_count": null,
      "outputs": [
        {
          "output_type": "stream",
          "text": [
            "Using TensorFlow backend.\n"
          ],
          "name": "stderr"
        }
      ]
    },
    {
      "cell_type": "markdown",
      "metadata": {
        "id": "LDopY2KgqHn3",
        "colab_type": "text"
      },
      "source": [
        "#### 5. Reading the Train Data csv file"
      ]
    },
    {
      "cell_type": "code",
      "metadata": {
        "id": "CKV0nFQKxC_q",
        "colab_type": "code",
        "colab": {}
      },
      "source": [
        "trainDataFrame=pd.read_csv(\"trainLabels.csv\",dtype=str)"
      ],
      "execution_count": null,
      "outputs": []
    },
    {
      "cell_type": "code",
      "metadata": {
        "id": "cnSJ6xvJyRQa",
        "colab_type": "code",
        "colab": {}
      },
      "source": [
        "trainDataFrame.head()"
      ],
      "execution_count": null,
      "outputs": []
    },
    {
      "cell_type": "code",
      "metadata": {
        "id": "ModXddC5yZOi",
        "colab_type": "code",
        "colab": {}
      },
      "source": [
        "def extFileType(fn):\n",
        "    return fn+\".png\""
      ],
      "execution_count": null,
      "outputs": []
    },
    {
      "cell_type": "code",
      "metadata": {
        "id": "UkIg0oTmxC6K",
        "colab_type": "code",
        "colab": {}
      },
      "source": [
        "trainDataFrame[\"id\"]=trainDataFrame[\"id\"].apply(extFileType)"
      ],
      "execution_count": null,
      "outputs": []
    },
    {
      "cell_type": "code",
      "metadata": {
        "id": "SP207AG-zKsF",
        "colab_type": "code",
        "colab": {}
      },
      "source": [
        "trainDataFrame.head(8)"
      ],
      "execution_count": null,
      "outputs": []
    },
    {
      "cell_type": "code",
      "metadata": {
        "id": "oXldDRB-y53F",
        "colab_type": "code",
        "colab": {}
      },
      "source": [
        "\n",
        "datagen=ImageDataGenerator(rescale=1./255.,validation_split=0.30)  #70:30 Train-Validation split"
      ],
      "execution_count": null,
      "outputs": []
    },
    {
      "cell_type": "code",
      "metadata": {
        "id": "pNQVMpb6zS2P",
        "colab_type": "code",
        "colab": {}
      },
      "source": [
        "# Need to give Filepath here\n",
        "#\n",
        "#\n",
        "#\n",
        "#"
      ],
      "execution_count": null,
      "outputs": []
    },
    {
      "cell_type": "code",
      "metadata": {
        "id": "fIP_6aEyU0hc",
        "colab_type": "code",
        "colab": {}
      },
      "source": [
        "# Load the Drive helper and mount\n",
        "from google.colab import drive"
      ],
      "execution_count": null,
      "outputs": []
    },
    {
      "cell_type": "code",
      "metadata": {
        "id": "kqVM-uWPU4rf",
        "colab_type": "code",
        "colab": {
          "base_uri": "https://localhost:8080/",
          "height": 34
        },
        "outputId": "a58c7864-e2d2-4b1e-bb11-91482860cfdb"
      },
      "source": [
        "!ls \"/content/drive/My Drive\""
      ],
      "execution_count": null,
      "outputs": [
        {
          "output_type": "stream",
          "text": [
            "'Colab Notebooks'\n"
          ],
          "name": "stdout"
        }
      ]
    },
    {
      "cell_type": "code",
      "metadata": {
        "id": "8I-Iu0cRUcB8",
        "colab_type": "code",
        "colab": {}
      },
      "source": [
        "#   !mkdir -p trainDrive\n",
        "#   !google-drive-ocamlfuse drive"
      ],
      "execution_count": null,
      "outputs": []
    },
    {
      "cell_type": "markdown",
      "metadata": {
        "id": "UiCG0tk5rO1x",
        "colab_type": "text"
      },
      "source": [
        "#### 6. Train-Validation Split of the Train Data"
      ]
    },
    {
      "cell_type": "code",
      "metadata": {
        "id": "zyBjxbYQqvJ3",
        "colab_type": "code",
        "colab": {}
      },
      "source": [
        "train_generator=datagen.flow_from_dataframe(\n",
        "dataframe=trainDataFrame,\n",
        "directory=\"./train/\",\n",
        "x_col=\"id\",\n",
        "y_col=\"label\",\n",
        "subset=\"training\",\n",
        "batch_size=32,\n",
        "seed=42,\n",
        "shuffle=True,\n",
        "class_mode=\"categorical\",\n",
        "target_size=(242, 242))"
      ],
      "execution_count": null,
      "outputs": []
    },
    {
      "cell_type": "code",
      "metadata": {
        "id": "oYaM7JA5xCz3",
        "colab_type": "code",
        "colab": {
          "base_uri": "https://localhost:8080/",
          "height": 87
        },
        "outputId": "cdf294e4-d18d-4a9a-f435-c5fab20f242d"
      },
      "source": [
        "valid_generator=datagen.flow_from_dataframe(\n",
        "dataframe=trainDataFrame,\n",
        "directory=\"./train/\",\n",
        "x_col=\"id\",\n",
        "y_col=\"label\",\n",
        "subset=\"validation\",\n",
        "batch_size=32,\n",
        "seed=42,\n",
        "shuffle=True,\n",
        "class_mode=\"categorical\",\n",
        "target_size=(32,32))\n",
        "test_datagen=ImageDataGenerator(rescale=1./255.)"
      ],
      "execution_count": null,
      "outputs": [
        {
          "output_type": "stream",
          "text": [
            "Found 0 validated image filenames belonging to 0 classes.\n"
          ],
          "name": "stdout"
        },
        {
          "output_type": "stream",
          "text": [
            "/usr/local/lib/python3.6/dist-packages/keras_preprocessing/image/dataframe_iterator.py:282: UserWarning: Found 50000 invalid image filename(s) in x_col=\"id\". These filename(s) will be ignored.\n",
            "  .format(n_invalid, x_col)\n"
          ],
          "name": "stderr"
        }
      ]
    },
    {
      "cell_type": "code",
      "metadata": {
        "id": "24j2MVGX2Lth",
        "colab_type": "code",
        "colab": {}
      },
      "source": [
        "STEP_SIZE_TRAIN=train_generator.n//train_generator.batch_size\n",
        "STEP_SIZE_VALID=valid_generator.n//valid_generator.batch_size"
      ],
      "execution_count": null,
      "outputs": []
    },
    {
      "cell_type": "markdown",
      "metadata": {
        "id": "bqKV1HwOrg_K",
        "colab_type": "text"
      },
      "source": [
        "#### 7. Transfer Learning Model"
      ]
    },
    {
      "cell_type": "code",
      "metadata": {
        "id": "Y2_n6CMwmu3e",
        "colab_type": "code",
        "colab": {}
      },
      "source": [
        "modelVGG = VGG16(weights = 'imagenet',\n",
        "                 include_top = False,\n",
        "                 input_tensor = Input(shape = (32, 32, 3)))"
      ],
      "execution_count": null,
      "outputs": []
    },
    {
      "cell_type": "code",
      "metadata": {
        "id": "jT6Cg2cFz6Oo",
        "colab_type": "code",
        "colab": {}
      },
      "source": [
        "for eachLayer in modelVGG.layers:\n",
        "  eachLayer.trainable = False\n",
        "  "
      ],
      "execution_count": null,
      "outputs": []
    },
    {
      "cell_type": "code",
      "metadata": {
        "id": "Iz9K1iFy0IWW",
        "colab_type": "code",
        "colab": {}
      },
      "source": [
        "modelVGG.summary"
      ],
      "execution_count": null,
      "outputs": []
    },
    {
      "cell_type": "code",
      "metadata": {
        "id": "lmF82-Ph0Nne",
        "colab_type": "code",
        "colab": {}
      },
      "source": [
        "layerFlat = Flatten()(modelVGG.output)"
      ],
      "execution_count": null,
      "outputs": []
    },
    {
      "cell_type": "code",
      "metadata": {
        "id": "2tWNdPAa0NqL",
        "colab_type": "code",
        "colab": {}
      },
      "source": [
        "classFlat = Dense(1024, activation = 'relu')(layerFlat)"
      ],
      "execution_count": null,
      "outputs": []
    },
    {
      "cell_type": "code",
      "metadata": {
        "id": "t8ejtLC60NvU",
        "colab_type": "code",
        "colab": {}
      },
      "source": [
        "outputFlat = Dense(10, activation = 'softmax')(classFlat)"
      ],
      "execution_count": null,
      "outputs": []
    },
    {
      "cell_type": "code",
      "metadata": {
        "id": "R72tIub_0NzW",
        "colab_type": "code",
        "colab": {}
      },
      "source": [
        "model1 = Model(inputs = modelVGG, outputs = output)\n",
        "model1.summary()"
      ],
      "execution_count": null,
      "outputs": []
    },
    {
      "cell_type": "code",
      "metadata": {
        "id": "lYk8QSVU0NtK",
        "colab_type": "code",
        "colab": {}
      },
      "source": [
        "model1.compile(loss = 'categorical_crossentropy', optimizer = 'adam', metrics = ['accuracy'])"
      ],
      "execution_count": null,
      "outputs": []
    },
    {
      "cell_type": "markdown",
      "metadata": {
        "id": "Q9PZtEjKrxOc",
        "colab_type": "text"
      },
      "source": [
        "#### 8. Fitting the Model"
      ]
    },
    {
      "cell_type": "code",
      "metadata": {
        "id": "7jxio5M3m5hC",
        "colab_type": "code",
        "colab": {}
      },
      "source": [
        "model1.fit_generator(generator=train_generator,\n",
        "                     steps_per_epoch=STEP_SIZE_TRAIN,\n",
        "                     validation_data=valid_generator,\n",
        "                     validation_steps=STEP_SIZE_VALID,\n",
        "                     epochs=5\n",
        ")"
      ],
      "execution_count": null,
      "outputs": []
    },
    {
      "cell_type": "code",
      "metadata": {
        "id": "quNukHo6nUMc",
        "colab_type": "code",
        "colab": {}
      },
      "source": [
        ""
      ],
      "execution_count": null,
      "outputs": []
    },
    {
      "cell_type": "code",
      "metadata": {
        "id": "jUg32e9_nUQ3",
        "colab_type": "code",
        "colab": {}
      },
      "source": [
        ""
      ],
      "execution_count": null,
      "outputs": []
    },
    {
      "cell_type": "code",
      "metadata": {
        "id": "rF4Xo0hSnUVH",
        "colab_type": "code",
        "colab": {}
      },
      "source": [
        ""
      ],
      "execution_count": null,
      "outputs": []
    },
    {
      "cell_type": "code",
      "metadata": {
        "id": "EKHRdSSKnUTe",
        "colab_type": "code",
        "colab": {}
      },
      "source": [
        ""
      ],
      "execution_count": null,
      "outputs": []
    },
    {
      "cell_type": "code",
      "metadata": {
        "id": "a9sHolgqnUO9",
        "colab_type": "code",
        "colab": {}
      },
      "source": [
        ""
      ],
      "execution_count": null,
      "outputs": []
    }
  ]
}